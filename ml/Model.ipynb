{
 "cells": [
  {
   "cell_type": "code",
   "execution_count": 20,
   "id": "31ffc5a4",
   "metadata": {},
   "outputs": [],
   "source": [
    "import numpy as np\n",
    "import pandas as pd\n",
    "import joblib\n",
    "\n",
    "from sklearn.preprocessing import StandardScaler\n",
    "from sklearn.model_selection import train_test_split"
   ]
  },
  {
   "cell_type": "code",
   "execution_count": 28,
   "id": "8799aa32",
   "metadata": {},
   "outputs": [],
   "source": [
    "df = pd.read_csv(\"oh_encoded_data.csv\")"
   ]
  },
  {
   "cell_type": "code",
   "execution_count": 29,
   "id": "a1caf608",
   "metadata": {},
   "outputs": [],
   "source": [
    "X= df.drop('price', axis=1)\n",
    "y= df['price']\n",
    "X_train, X_test, y_train, y_test = train_test_split(X,y, test_size=0.2, random_state=51)"
   ]
  },
  {
   "cell_type": "code",
   "execution_count": 30,
   "id": "a6ccccb6",
   "metadata": {},
   "outputs": [],
   "source": [
    "sc = StandardScaler()\n",
    "sc.fit(X_train)\n",
    "X_train = sc.transform(X_train)"
   ]
  },
  {
   "cell_type": "code",
   "execution_count": 34,
   "id": "e2903b1f",
   "metadata": {},
   "outputs": [],
   "source": [
    "model = joblib.load('bangalore_house_price_prediction_model.pkl')"
   ]
  },
  {
   "cell_type": "code",
   "execution_count": 35,
   "id": "33411d43",
   "metadata": {},
   "outputs": [],
   "source": [
    "def predict_house_price(model,bath,balcony,total_sqft_int,bhk,price_per_sqft,area_type,availability,location):\n",
    "\n",
    "  x =np.zeros(len(X.columns)) # create zero numpy array, len = 107 as input value for model\n",
    "\n",
    "  # adding feature's value accorind to their column index\n",
    "  x[0]=bath\n",
    "  x[1]=balcony\n",
    "  x[2]=total_sqft_int\n",
    "  x[3]=bhk\n",
    "  x[4]=price_per_sqft\n",
    "\n",
    "  if \"availability\"==\"Ready To Move\":\n",
    "    x[8]=1\n",
    "\n",
    "  if 'area_type'+area_type in X.columns:\n",
    "    area_type_index = np.where(X.columns==\"area_type\"+area_type)[0][0]\n",
    "    x[area_type_index] =1\n",
    "\n",
    "    #print(area_type_index)\n",
    "\n",
    "  if 'location_'+location in X.columns:\n",
    "    loc_index = np.where(X.columns==\"location_\"+location)[0][0]\n",
    "    x[loc_index] =1\n",
    "\n",
    "    #print(loc_index)\n",
    "\n",
    "  #print(x)\n",
    "\n",
    "  # feature scaling\n",
    "  x = sc.transform([x])[0] # give 2d np array for feature scaling and get 1d scaled np array\n",
    "  #print(x)\n",
    "\n",
    "  return model.predict([x])[0] # return the predicted value by train XGBoost model"
   ]
  },
  {
   "cell_type": "code",
   "execution_count": 36,
   "id": "a6c7f744",
   "metadata": {},
   "outputs": [
    {
     "name": "stderr",
     "output_type": "stream",
     "text": [
      "C:\\Users\\ankus\\AppData\\Local\\Programs\\Python\\Python310\\lib\\site-packages\\sklearn\\base.py:450: UserWarning: X does not have valid feature names, but StandardScaler was fitted with feature names\n",
      "  warnings.warn(\n"
     ]
    },
    {
     "data": {
      "text/plain": [
       "65.53566"
      ]
     },
     "execution_count": 36,
     "metadata": {},
     "output_type": "execute_result"
    }
   ],
   "source": [
    "predict_house_price(model,bath=3,balcony=3,total_sqft_int=150,bhk=3,price_per_sqft=8514.285714,area_type=\"Built-up Area\",availability=\"Ready To Move\",location=\"Devarabeesana Halli\")"
   ]
  },
  {
   "cell_type": "code",
   "execution_count": null,
   "id": "720e8d29",
   "metadata": {},
   "outputs": [],
   "source": []
  }
 ],
 "metadata": {
  "kernelspec": {
   "display_name": "Python 3 (ipykernel)",
   "language": "python",
   "name": "python3"
  },
  "language_info": {
   "codemirror_mode": {
    "name": "ipython",
    "version": 3
   },
   "file_extension": ".py",
   "mimetype": "text/x-python",
   "name": "python",
   "nbconvert_exporter": "python",
   "pygments_lexer": "ipython3",
   "version": "3.10.4"
  }
 },
 "nbformat": 4,
 "nbformat_minor": 5
}
